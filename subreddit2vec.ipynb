{
 "cells": [
  {
   "cell_type": "code",
   "execution_count": 1,
   "metadata": {},
   "outputs": [],
   "source": [
    "import glob\n",
    "import json\n",
    "import os.path as op\n",
    "import os\n",
    "from collections import defaultdict\n",
    "\n",
    "import implicit\n",
    "import pandas as pd\n",
    "import numpy as np\n",
    "from scipy.sparse import coo_matrix\n",
    "\n",
    "import matplotlib.pyplot as plt\n",
    "%matplotlib inline\n",
    "\n",
    "os.environ['OPENBLAS_NUM_THREADS'] = '1'"
   ]
  },
  {
   "cell_type": "markdown",
   "metadata": {},
   "source": [
    "## Load dataset with top subreddits by subs count"
   ]
  },
  {
   "cell_type": "code",
   "execution_count": 9,
   "metadata": {},
   "outputs": [],
   "source": [
    "! wget https://www.dropbox.com/s/hie780betvmuu79/reddit.csv"
   ]
  },
  {
   "cell_type": "code",
   "execution_count": 3,
   "metadata": {},
   "outputs": [],
   "source": [
    "top_subreddits_df = pd.read_csv('reddit.csv')\n",
    "subreddit2log_size = {\n",
    "    subreddit: np.log(size)\n",
    "    for subreddit, size in top_subreddits_df[['real_name', 'subs']].values\n",
    "}"
   ]
  },
  {
   "cell_type": "markdown",
   "metadata": {},
   "source": [
    "## Load users' comments dataset "
   ]
  },
  {
   "cell_type": "code",
   "execution_count": 202,
   "metadata": {},
   "outputs": [],
   "source": [
    "! wget https://www.dropbox.com/s/rlc61tbs4yo56uv/subreddit_users.json"
   ]
  },
  {
   "cell_type": "code",
   "execution_count": 195,
   "metadata": {},
   "outputs": [],
   "source": [
    "with open('subreddit_users.json') as f:\n",
    "    subreddit_users = json.load(f)\n",
    "\n",
    "id2user = list({user for users in subreddit_users.values() for user in users})\n",
    "user2id = {user: i for i, user in enumerate(id2user)}\n",
    "\n",
    "id2subreddit = list(subreddit_users)\n",
    "subreddit2id = {subreddit: i for i, subreddit in enumerate(id2subreddit)}"
   ]
  },
  {
   "cell_type": "markdown",
   "metadata": {},
   "source": [
    "## Calculate IDFs, TFs and mean users' comments count for BM25 metric"
   ]
  },
  {
   "cell_type": "code",
   "execution_count": 198,
   "metadata": {},
   "outputs": [],
   "source": [
    "subreddit2df = defaultdict(int)\n",
    "\n",
    "user2subreddit2tf = defaultdict(dict)\n",
    "for sub, users in subreddit_users.items():\n",
    "    for u, tf in users.items():\n",
    "        subreddit2df[sub] += 1\n",
    "        user2subreddit2tf[u][sub] = tf\n",
    "        \n",
    "subreddit2idf = {s: np.log((len(id2user) - df + 0.5) / (df + 0.5)) for s, df in subreddit2df.items()}\n",
    "\n",
    "mean_user_length = np.mean(\n",
    "    [sum(subreddit2tf.values()) for subreddit2tf in user2subreddit2tf.values()]\n",
    ")"
   ]
  },
  {
   "cell_type": "markdown",
   "metadata": {},
   "source": [
    "## Construct sparse subreddit-user matrix"
   ]
  },
  {
   "cell_type": "code",
   "execution_count": 152,
   "metadata": {},
   "outputs": [],
   "source": [
    "xs = []\n",
    "ys = []\n",
    "data = []\n",
    "\n",
    "K1 = 1.2\n",
    "B = 0.5\n",
    "\n",
    "def bm25(tf, idf, user_length):\n",
    "    length_norm = 1 - B + B * user_length / mean_user_length\n",
    "    return (\n",
    "        idf * (tf * (K1 + 1)) / (tf + K1 * length_norm)\n",
    "    )\n",
    "\n",
    "for subreddit, users in subreddit_users.items():\n",
    "    subreddit_id = subreddit2id[subreddit]\n",
    "    for user, _ in users.items():\n",
    "        user_id = user2id[user]\n",
    "        tf = user2subreddit2tf[user][subreddit]\n",
    "        idf = subreddit2idf[subreddit]\n",
    "\n",
    "        user_subreddits_length = sum(user2subreddit2tf[u].values())\n",
    "        xs.append(subreddit_id)\n",
    "        ys.append(user_id)\n",
    "        data.append(bm25(tf, idf, user_subreddits_length))\n",
    "\n",
    "matrix = coo_matrix((data, (xs, ys)), shape=(len(id2subreddit), len(id2user))).tocsr()"
   ]
  },
  {
   "cell_type": "markdown",
   "metadata": {},
   "source": [
    "## Factorize matrix, it may take a long time"
   ]
  },
  {
   "cell_type": "code",
   "execution_count": 153,
   "metadata": {},
   "outputs": [
    {
     "data": {
      "application/vnd.jupyter.widget-view+json": {
       "model_id": "6016129885be4516a63a53eab41bdc4e",
       "version_major": 2,
       "version_minor": 0
      },
      "text/plain": [
       "HBox(children=(FloatProgress(value=0.0, max=20.0), HTML(value='')))"
      ]
     },
     "metadata": {},
     "output_type": "display_data"
    },
    {
     "name": "stdout",
     "output_type": "stream",
     "text": [
      "\n"
     ]
    }
   ],
   "source": [
    "model = implicit.als.AlternatingLeastSquares(\n",
    "    factors=60, num_threads=7,\n",
    "    iterations=20, calculate_training_loss=True,\n",
    "    validate_proportion=0.05\n",
    ")\n",
    "model.fit(matrix, show_progress=True)"
   ]
  },
  {
   "cell_type": "markdown",
   "metadata": {},
   "source": [
    "## Dump subreddits vectors and subreddits list to files"
   ]
  },
  {
   "cell_type": "code",
   "execution_count": 181,
   "metadata": {},
   "outputs": [],
   "source": [
    "np.save('subreddits.npy', model.item_factors)\n",
    "\n",
    "with open('subreddits.json', 'w') as f:\n",
    "    json.dump(id2subreddit, f)"
   ]
  },
  {
   "cell_type": "markdown",
   "metadata": {},
   "source": [
    "## Similar subreddits recommender using cosine similarity"
   ]
  },
  {
   "cell_type": "code",
   "execution_count": 10,
   "metadata": {},
   "outputs": [],
   "source": [
    "item_vecs = model.item_factors / np.linalg.norm(model.item_factors, axis=1, keepdims=True)\n",
    "\n",
    "def find_nearest_subreddits(name):\n",
    "    sub_id = subreddit2id[name]\n",
    "    sims = item_vecs @ item_vecs[sub_id]\n",
    "    for i in np.argsort(np.squeeze(sims))[-20:-1][::-1]:\n",
    "        yield (id2subreddit[i], sims[i])"
   ]
  },
  {
   "cell_type": "code",
   "execution_count": 211,
   "metadata": {
    "scrolled": true
   },
   "outputs": [
    {
     "name": "stdout",
     "output_type": "stream",
     "text": [
      "https://reddit.com/r/learnmachinelearning -> 0.9642617702484131\n",
      "https://reddit.com/r/OMSCS -> 0.959938108921051\n",
      "https://reddit.com/r/dataengineering -> 0.9495332837104797\n",
      "https://reddit.com/r/ExperiencedDevs -> 0.9486438632011414\n",
      "https://reddit.com/r/MachineLearning -> 0.9478331208229065\n",
      "https://reddit.com/r/algorithms -> 0.9413017630577087\n",
      "https://reddit.com/r/LanguageTechnology -> 0.9407913684844971\n",
      "https://reddit.com/r/SoftwareEngineering -> 0.9393213987350464\n",
      "https://reddit.com/r/Rlanguage -> 0.937468945980072\n",
      "https://reddit.com/r/cscareerquestions -> 0.9353570342063904\n",
      "https://reddit.com/r/AskComputerScience -> 0.9329497218132019\n",
      "https://reddit.com/r/statistics -> 0.9264026284217834\n",
      "https://reddit.com/r/datasets -> 0.9260255694389343\n",
      "https://reddit.com/r/csMajors -> 0.9235038757324219\n",
      "https://reddit.com/r/computerscience -> 0.9200653433799744\n",
      "https://reddit.com/r/compsci -> 0.9196723699569702\n",
      "https://reddit.com/r/learnprogramming -> 0.9169032573699951\n",
      "https://reddit.com/r/django -> 0.9151247143745422\n",
      "https://reddit.com/r/AskProgramming -> 0.9146648049354553\n"
     ]
    }
   ],
   "source": [
    "for sub, score in find_nearest_subreddits('datascience'):\n",
    "    print(f'https://reddit.com/r/{sub} -> {score}')"
   ]
  },
  {
   "cell_type": "markdown",
   "metadata": {},
   "source": [
    "## Project given subreddits vectors onto 2d surface using UMAP"
   ]
  },
  {
   "cell_type": "code",
   "execution_count": 11,
   "metadata": {},
   "outputs": [],
   "source": [
    "import umap\n",
    "\n",
    "embedding = umap.UMAP(\n",
    "    n_neighbors=10, min_dist=0.001, metric='cosine', random_state=1\n",
    ").fit_transform(model.item_factors)"
   ]
  },
  {
   "cell_type": "markdown",
   "metadata": {},
   "source": [
    "## Interactive plotly visualization"
   ]
  },
  {
   "cell_type": "code",
   "execution_count": 12,
   "metadata": {
    "scrolled": false
   },
   "outputs": [
    {
     "data": {
      "text/plain": [
       "'subreddits_space.html'"
      ]
     },
     "execution_count": 12,
     "metadata": {},
     "output_type": "execute_result"
    }
   ],
   "source": [
    "from plotly.offline import plot\n",
    "\n",
    "plot({\n",
    "        'data': [{\n",
    "            \"x\": embedding[:, 0],\n",
    "            \"y\": embedding[:, 1],\n",
    "            'type': 'scattergl',\n",
    "            'marker': {\n",
    "                'color': 'rgb(231, 231, 221)',\n",
    "                'size': [subreddit2log_size[i] / 6 for i in id2subreddit],\n",
    "                'line': {'width':0}\n",
    "            },\n",
    "            'text': [f'{s}' for s in id2subreddit],\n",
    "            'opacity': 0.6,\n",
    "            'hovertemplate': '<b>r/%{text}</b>',\n",
    "            'mode': 'markers',\n",
    "            'name': ''\n",
    "        }],\n",
    "        'layout': {\n",
    "            'xaxis': {\n",
    "                'showgrid': False,\n",
    "                'zeroline': False,\n",
    "                'showline': False,\n",
    "                'ticks': '',\n",
    "                'showticklabels': False\n",
    "            },\n",
    "            'yaxis': {\n",
    "                'showgrid': False,\n",
    "                'zeroline': False,\n",
    "                'showline': False,\n",
    "                'ticks': '',\n",
    "                'showticklabels': False\n",
    "            },\n",
    "            'plot_bgcolor': 'rgb(24, 24, 34)',\n",
    "            'hovermode': 'closest',\n",
    "            'showlegend': False,\n",
    "            'title': 'Subreddits space',\n",
    "            'hoverlabel': {'bgcolor': '#FFF'},\n",
    "        },\n",
    "    },\n",
    "    filename = 'subreddits_space.html',\n",
    "    config={\n",
    "        'responsive': True,\n",
    "        'modeBarButtonsToRemove': [\n",
    "            'pan2d', 'lasso2d','hoverCompareCartesian', 'resetViews',\n",
    "            'toggleSpikelines', 'hoverClosestCartesian', 'select2d',\n",
    "            'resetViewMapbox', 'resetScale2d', 'autoScale2d']\n",
    "    },\n",
    "    auto_open=True)"
   ]
  },
  {
   "cell_type": "markdown",
   "metadata": {},
   "source": [
    "## Matplotlib visualization for [r/dataisbeautiful](https://reddit.com/r/dataisbeautiful) and wallpapers"
   ]
  },
  {
   "cell_type": "code",
   "execution_count": 217,
   "metadata": {},
   "outputs": [],
   "source": [
    "plt.figure(figsize=(70 * 16 / 9, 70))\n",
    "ax = plt.axes()\n",
    "ax.set_facecolor(np.array([24, 24, 34]) / 255)\n",
    "\n",
    "plt.scatter(\n",
    "    embedding[:, 0], embedding[:, 1],\n",
    "    s=[subreddit2log_size[i] ** 1.2 / 6 for i in id2subreddit],\n",
    "    color=np.array([231, 231, 221]) / 255,\n",
    "    alpha=0.6\n",
    ")"
   ]
  }
 ],
 "metadata": {
  "kernelspec": {
   "display_name": "Python 3",
   "language": "python",
   "name": "python3"
  },
  "language_info": {
   "codemirror_mode": {
    "name": "ipython",
    "version": 3
   },
   "file_extension": ".py",
   "mimetype": "text/x-python",
   "name": "python",
   "nbconvert_exporter": "python",
   "pygments_lexer": "ipython3",
   "version": "3.7.4"
  }
 },
 "nbformat": 4,
 "nbformat_minor": 2
}
